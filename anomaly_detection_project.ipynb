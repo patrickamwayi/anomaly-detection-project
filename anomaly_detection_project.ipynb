{
 "cells": [
  {
   "cell_type": "code",
   "execution_count": 1,
   "id": "f6053ac1",
   "metadata": {},
   "outputs": [],
   "source": [
    "import itertools\n",
    "import warnings\n",
    "warnings.filterwarnings(\"ignore\")\n",
    "import matplotlib.pyplot as plt\n",
    "import matplotlib.dates as mdates\n",
    "import numpy as np\n",
    "import pandas as pd\n",
    "import math\n",
    "from sklearn import metrics\n",
    "from random import randint\n",
    "from matplotlib import style\n",
    "import seaborn as sns\n",
    "\n",
    "from sklearn.cluster import DBSCAN\n",
    "from sklearn.preprocessing import MinMaxScaler\n",
    "\n",
    "import env\n",
    "import wrangle"
   ]
  },
  {
   "cell_type": "markdown",
   "id": "db05f347",
   "metadata": {},
   "source": [
    "## Acquire"
   ]
  },
  {
   "cell_type": "code",
   "execution_count": 2,
   "id": "388baf9c",
   "metadata": {},
   "outputs": [],
   "source": [
    "# Acquiring the txt from the csv file and turning it into a dataframe\n",
    "df=wrangle.get_logs()"
   ]
  },
  {
   "cell_type": "code",
   "execution_count": 3,
   "id": "7fe859a8",
   "metadata": {},
   "outputs": [
    {
     "data": {
      "text/html": [
       "<div>\n",
       "<style scoped>\n",
       "    .dataframe tbody tr th:only-of-type {\n",
       "        vertical-align: middle;\n",
       "    }\n",
       "\n",
       "    .dataframe tbody tr th {\n",
       "        vertical-align: top;\n",
       "    }\n",
       "\n",
       "    .dataframe thead th {\n",
       "        text-align: right;\n",
       "    }\n",
       "</style>\n",
       "<table border=\"1\" class=\"dataframe\">\n",
       "  <thead>\n",
       "    <tr style=\"text-align: right;\">\n",
       "      <th></th>\n",
       "      <th>date</th>\n",
       "      <th>time</th>\n",
       "      <th>endpoint</th>\n",
       "      <th>user_id</th>\n",
       "      <th>ip</th>\n",
       "      <th>cohort_name</th>\n",
       "      <th>start_date</th>\n",
       "      <th>end_date</th>\n",
       "      <th>program_id</th>\n",
       "    </tr>\n",
       "  </thead>\n",
       "  <tbody>\n",
       "    <tr>\n",
       "      <th>0</th>\n",
       "      <td>2018-01-26</td>\n",
       "      <td>09:55:03</td>\n",
       "      <td>/</td>\n",
       "      <td>1</td>\n",
       "      <td>97.105.19.61</td>\n",
       "      <td>Hampton</td>\n",
       "      <td>2015-09-22</td>\n",
       "      <td>2016-02-06</td>\n",
       "      <td>1</td>\n",
       "    </tr>\n",
       "    <tr>\n",
       "      <th>1</th>\n",
       "      <td>2018-01-26</td>\n",
       "      <td>09:56:02</td>\n",
       "      <td>java-ii</td>\n",
       "      <td>1</td>\n",
       "      <td>97.105.19.61</td>\n",
       "      <td>Hampton</td>\n",
       "      <td>2015-09-22</td>\n",
       "      <td>2016-02-06</td>\n",
       "      <td>1</td>\n",
       "    </tr>\n",
       "    <tr>\n",
       "      <th>2</th>\n",
       "      <td>2018-01-26</td>\n",
       "      <td>09:56:05</td>\n",
       "      <td>java-ii/object-oriented-programming</td>\n",
       "      <td>1</td>\n",
       "      <td>97.105.19.61</td>\n",
       "      <td>Hampton</td>\n",
       "      <td>2015-09-22</td>\n",
       "      <td>2016-02-06</td>\n",
       "      <td>1</td>\n",
       "    </tr>\n",
       "    <tr>\n",
       "      <th>3</th>\n",
       "      <td>2018-01-26</td>\n",
       "      <td>09:56:06</td>\n",
       "      <td>slides/object_oriented_programming</td>\n",
       "      <td>1</td>\n",
       "      <td>97.105.19.61</td>\n",
       "      <td>Hampton</td>\n",
       "      <td>2015-09-22</td>\n",
       "      <td>2016-02-06</td>\n",
       "      <td>1</td>\n",
       "    </tr>\n",
       "    <tr>\n",
       "      <th>4</th>\n",
       "      <td>2018-01-26</td>\n",
       "      <td>09:56:24</td>\n",
       "      <td>javascript-i/conditionals</td>\n",
       "      <td>2</td>\n",
       "      <td>97.105.19.61</td>\n",
       "      <td>Teddy</td>\n",
       "      <td>2018-01-08</td>\n",
       "      <td>2018-05-17</td>\n",
       "      <td>2</td>\n",
       "    </tr>\n",
       "  </tbody>\n",
       "</table>\n",
       "</div>"
      ],
      "text/plain": [
       "         date      time                             endpoint  user_id  \\\n",
       "0  2018-01-26  09:55:03                                    /        1   \n",
       "1  2018-01-26  09:56:02                              java-ii        1   \n",
       "2  2018-01-26  09:56:05  java-ii/object-oriented-programming        1   \n",
       "3  2018-01-26  09:56:06   slides/object_oriented_programming        1   \n",
       "4  2018-01-26  09:56:24            javascript-i/conditionals        2   \n",
       "\n",
       "             ip cohort_name  start_date    end_date  program_id  \n",
       "0  97.105.19.61     Hampton  2015-09-22  2016-02-06           1  \n",
       "1  97.105.19.61     Hampton  2015-09-22  2016-02-06           1  \n",
       "2  97.105.19.61     Hampton  2015-09-22  2016-02-06           1  \n",
       "3  97.105.19.61     Hampton  2015-09-22  2016-02-06           1  \n",
       "4  97.105.19.61       Teddy  2018-01-08  2018-05-17           2  "
      ]
     },
     "execution_count": 3,
     "metadata": {},
     "output_type": "execute_result"
    }
   ],
   "source": [
    "#look at datahead\n",
    "df.head()"
   ]
  },
  {
   "cell_type": "code",
   "execution_count": 4,
   "id": "24d2dc42",
   "metadata": {},
   "outputs": [
    {
     "data": {
      "text/plain": [
       "(847330, 9)"
      ]
     },
     "execution_count": 4,
     "metadata": {},
     "output_type": "execute_result"
    }
   ],
   "source": [
    "#look at the shape\n",
    "df.shape"
   ]
  },
  {
   "cell_type": "code",
   "execution_count": 5,
   "id": "32d6f050",
   "metadata": {},
   "outputs": [
    {
     "name": "stdout",
     "output_type": "stream",
     "text": [
      "<class 'pandas.core.frame.DataFrame'>\n",
      "Int64Index: 847330 entries, 0 to 847329\n",
      "Data columns (total 9 columns):\n",
      " #   Column       Non-Null Count   Dtype \n",
      "---  ------       --------------   ----- \n",
      " 0   date         847330 non-null  object\n",
      " 1   time         847330 non-null  object\n",
      " 2   endpoint     847329 non-null  object\n",
      " 3   user_id      847330 non-null  int64 \n",
      " 4   ip           847330 non-null  object\n",
      " 5   cohort_name  847330 non-null  object\n",
      " 6   start_date   847330 non-null  object\n",
      " 7   end_date     847330 non-null  object\n",
      " 8   program_id   847330 non-null  int64 \n",
      "dtypes: int64(2), object(7)\n",
      "memory usage: 64.6+ MB\n"
     ]
    }
   ],
   "source": [
    "#checking the dataframe for nulls\n",
    "df.info()"
   ]
  },
  {
   "cell_type": "markdown",
   "id": "4802a1c1",
   "metadata": {},
   "source": [
    "## Prepare"
   ]
  },
  {
   "cell_type": "code",
   "execution_count": 6,
   "id": "7a4d91bc",
   "metadata": {},
   "outputs": [],
   "source": [
    "# Reassign the date column to be a datetime type\n",
    "df.date = pd.to_datetime(df.date)"
   ]
  },
  {
   "cell_type": "code",
   "execution_count": 7,
   "id": "325177fd",
   "metadata": {},
   "outputs": [
    {
     "data": {
      "text/html": [
       "<div>\n",
       "<style scoped>\n",
       "    .dataframe tbody tr th:only-of-type {\n",
       "        vertical-align: middle;\n",
       "    }\n",
       "\n",
       "    .dataframe tbody tr th {\n",
       "        vertical-align: top;\n",
       "    }\n",
       "\n",
       "    .dataframe thead th {\n",
       "        text-align: right;\n",
       "    }\n",
       "</style>\n",
       "<table border=\"1\" class=\"dataframe\">\n",
       "  <thead>\n",
       "    <tr style=\"text-align: right;\">\n",
       "      <th></th>\n",
       "      <th>time</th>\n",
       "      <th>endpoint</th>\n",
       "      <th>user_id</th>\n",
       "      <th>ip</th>\n",
       "      <th>cohort_name</th>\n",
       "      <th>start_date</th>\n",
       "      <th>end_date</th>\n",
       "      <th>program_id</th>\n",
       "    </tr>\n",
       "    <tr>\n",
       "      <th>date</th>\n",
       "      <th></th>\n",
       "      <th></th>\n",
       "      <th></th>\n",
       "      <th></th>\n",
       "      <th></th>\n",
       "      <th></th>\n",
       "      <th></th>\n",
       "      <th></th>\n",
       "    </tr>\n",
       "  </thead>\n",
       "  <tbody>\n",
       "    <tr>\n",
       "      <th>2018-01-26</th>\n",
       "      <td>09:55:03</td>\n",
       "      <td>/</td>\n",
       "      <td>1</td>\n",
       "      <td>97.105.19.61</td>\n",
       "      <td>Hampton</td>\n",
       "      <td>2015-09-22</td>\n",
       "      <td>2016-02-06</td>\n",
       "      <td>1</td>\n",
       "    </tr>\n",
       "    <tr>\n",
       "      <th>2018-01-26</th>\n",
       "      <td>09:56:02</td>\n",
       "      <td>java-ii</td>\n",
       "      <td>1</td>\n",
       "      <td>97.105.19.61</td>\n",
       "      <td>Hampton</td>\n",
       "      <td>2015-09-22</td>\n",
       "      <td>2016-02-06</td>\n",
       "      <td>1</td>\n",
       "    </tr>\n",
       "    <tr>\n",
       "      <th>2018-01-26</th>\n",
       "      <td>09:56:05</td>\n",
       "      <td>java-ii/object-oriented-programming</td>\n",
       "      <td>1</td>\n",
       "      <td>97.105.19.61</td>\n",
       "      <td>Hampton</td>\n",
       "      <td>2015-09-22</td>\n",
       "      <td>2016-02-06</td>\n",
       "      <td>1</td>\n",
       "    </tr>\n",
       "    <tr>\n",
       "      <th>2018-01-26</th>\n",
       "      <td>09:56:06</td>\n",
       "      <td>slides/object_oriented_programming</td>\n",
       "      <td>1</td>\n",
       "      <td>97.105.19.61</td>\n",
       "      <td>Hampton</td>\n",
       "      <td>2015-09-22</td>\n",
       "      <td>2016-02-06</td>\n",
       "      <td>1</td>\n",
       "    </tr>\n",
       "    <tr>\n",
       "      <th>2018-01-26</th>\n",
       "      <td>09:56:24</td>\n",
       "      <td>javascript-i/conditionals</td>\n",
       "      <td>2</td>\n",
       "      <td>97.105.19.61</td>\n",
       "      <td>Teddy</td>\n",
       "      <td>2018-01-08</td>\n",
       "      <td>2018-05-17</td>\n",
       "      <td>2</td>\n",
       "    </tr>\n",
       "  </tbody>\n",
       "</table>\n",
       "</div>"
      ],
      "text/plain": [
       "                time                             endpoint  user_id  \\\n",
       "date                                                                 \n",
       "2018-01-26  09:55:03                                    /        1   \n",
       "2018-01-26  09:56:02                              java-ii        1   \n",
       "2018-01-26  09:56:05  java-ii/object-oriented-programming        1   \n",
       "2018-01-26  09:56:06   slides/object_oriented_programming        1   \n",
       "2018-01-26  09:56:24            javascript-i/conditionals        2   \n",
       "\n",
       "                      ip cohort_name  start_date    end_date  program_id  \n",
       "date                                                                      \n",
       "2018-01-26  97.105.19.61     Hampton  2015-09-22  2016-02-06           1  \n",
       "2018-01-26  97.105.19.61     Hampton  2015-09-22  2016-02-06           1  \n",
       "2018-01-26  97.105.19.61     Hampton  2015-09-22  2016-02-06           1  \n",
       "2018-01-26  97.105.19.61     Hampton  2015-09-22  2016-02-06           1  \n",
       "2018-01-26  97.105.19.61       Teddy  2018-01-08  2018-05-17           2  "
      ]
     },
     "execution_count": 7,
     "metadata": {},
     "output_type": "execute_result"
    }
   ],
   "source": [
    "# Let's make the date the index by coverting date values from objects to datetimes\n",
    "df.date = pd.to_datetime(df.date)\n",
    "df = df.set_index(\"date\").sort_index()\n",
    "df.head()"
   ]
  },
  {
   "cell_type": "code",
   "execution_count": 8,
   "id": "7854a7bf",
   "metadata": {},
   "outputs": [
    {
     "data": {
      "text/html": [
       "<div>\n",
       "<style scoped>\n",
       "    .dataframe tbody tr th:only-of-type {\n",
       "        vertical-align: middle;\n",
       "    }\n",
       "\n",
       "    .dataframe tbody tr th {\n",
       "        vertical-align: top;\n",
       "    }\n",
       "\n",
       "    .dataframe thead th {\n",
       "        text-align: right;\n",
       "    }\n",
       "</style>\n",
       "<table border=\"1\" class=\"dataframe\">\n",
       "  <thead>\n",
       "    <tr style=\"text-align: right;\">\n",
       "      <th></th>\n",
       "      <th>time</th>\n",
       "      <th>endpoint</th>\n",
       "      <th>user_id</th>\n",
       "      <th>ip</th>\n",
       "      <th>cohort_name</th>\n",
       "      <th>start_date</th>\n",
       "      <th>end_date</th>\n",
       "      <th>program_id</th>\n",
       "    </tr>\n",
       "    <tr>\n",
       "      <th>date</th>\n",
       "      <th></th>\n",
       "      <th></th>\n",
       "      <th></th>\n",
       "      <th></th>\n",
       "      <th></th>\n",
       "      <th></th>\n",
       "      <th></th>\n",
       "      <th></th>\n",
       "    </tr>\n",
       "  </thead>\n",
       "  <tbody>\n",
       "    <tr>\n",
       "      <th>2018-01-26</th>\n",
       "      <td>09:55:03</td>\n",
       "      <td>/</td>\n",
       "      <td>1</td>\n",
       "      <td>97.105.19.61</td>\n",
       "      <td>Hampton</td>\n",
       "      <td>2015-09-22</td>\n",
       "      <td>2016-02-06</td>\n",
       "      <td>1</td>\n",
       "    </tr>\n",
       "    <tr>\n",
       "      <th>2018-01-26</th>\n",
       "      <td>09:56:02</td>\n",
       "      <td>java-ii</td>\n",
       "      <td>1</td>\n",
       "      <td>97.105.19.61</td>\n",
       "      <td>Hampton</td>\n",
       "      <td>2015-09-22</td>\n",
       "      <td>2016-02-06</td>\n",
       "      <td>1</td>\n",
       "    </tr>\n",
       "    <tr>\n",
       "      <th>2018-01-26</th>\n",
       "      <td>09:56:05</td>\n",
       "      <td>java-ii/object-oriented-programming</td>\n",
       "      <td>1</td>\n",
       "      <td>97.105.19.61</td>\n",
       "      <td>Hampton</td>\n",
       "      <td>2015-09-22</td>\n",
       "      <td>2016-02-06</td>\n",
       "      <td>1</td>\n",
       "    </tr>\n",
       "    <tr>\n",
       "      <th>2018-01-26</th>\n",
       "      <td>09:56:06</td>\n",
       "      <td>slides/object_oriented_programming</td>\n",
       "      <td>1</td>\n",
       "      <td>97.105.19.61</td>\n",
       "      <td>Hampton</td>\n",
       "      <td>2015-09-22</td>\n",
       "      <td>2016-02-06</td>\n",
       "      <td>1</td>\n",
       "    </tr>\n",
       "    <tr>\n",
       "      <th>2018-01-26</th>\n",
       "      <td>09:56:24</td>\n",
       "      <td>javascript-i/conditionals</td>\n",
       "      <td>2</td>\n",
       "      <td>97.105.19.61</td>\n",
       "      <td>Teddy</td>\n",
       "      <td>2018-01-08</td>\n",
       "      <td>2018-05-17</td>\n",
       "      <td>2</td>\n",
       "    </tr>\n",
       "  </tbody>\n",
       "</table>\n",
       "</div>"
      ],
      "text/plain": [
       "                time                             endpoint  user_id  \\\n",
       "date                                                                 \n",
       "2018-01-26  09:55:03                                    /        1   \n",
       "2018-01-26  09:56:02                              java-ii        1   \n",
       "2018-01-26  09:56:05  java-ii/object-oriented-programming        1   \n",
       "2018-01-26  09:56:06   slides/object_oriented_programming        1   \n",
       "2018-01-26  09:56:24            javascript-i/conditionals        2   \n",
       "\n",
       "                      ip cohort_name start_date   end_date  program_id  \n",
       "date                                                                    \n",
       "2018-01-26  97.105.19.61     Hampton 2015-09-22 2016-02-06           1  \n",
       "2018-01-26  97.105.19.61     Hampton 2015-09-22 2016-02-06           1  \n",
       "2018-01-26  97.105.19.61     Hampton 2015-09-22 2016-02-06           1  \n",
       "2018-01-26  97.105.19.61     Hampton 2015-09-22 2016-02-06           1  \n",
       "2018-01-26  97.105.19.61       Teddy 2018-01-08 2018-05-17           2  "
      ]
     },
     "execution_count": 8,
     "metadata": {},
     "output_type": "execute_result"
    }
   ],
   "source": [
    "#now let us set the start_date and end_date column to datetime format\n",
    "df.start_date = pd.to_datetime(df.start_date)\n",
    "df.end_date = pd.to_datetime(df.end_date)\n",
    "df.head()"
   ]
  },
  {
   "cell_type": "code",
   "execution_count": 9,
   "id": "1c88ceec",
   "metadata": {},
   "outputs": [
    {
     "data": {
      "text/plain": [
       "array(['Hampton', 'Teddy', 'Sequoia', 'Arches', 'Niagara', 'Pinnacles',\n",
       "       'Quincy', 'Kings', 'Lassen', 'Mammoth', 'Glacier', 'Denali',\n",
       "       'Joshua', 'Olympic', 'Ulysses', 'Badlands', 'Apollo', 'Ike',\n",
       "       'Voyageurs', 'Wrangell', 'Xanadu', 'Franklin', 'Yosemite', 'Staff',\n",
       "       'Zion', 'Andromeda', 'Betelgeuse', 'Ceres', 'Bayes', 'Deimos',\n",
       "       'Europa', 'Fortuna', 'Curie', 'Apex', 'Ganymede', 'Everglades',\n",
       "       'Hyperion', 'Darden', 'Bash', 'Jupiter', 'Kalypso', 'Luna',\n",
       "       'Easley', 'Marco', 'Neptune', 'Florence', 'Oberon'], dtype=object)"
      ]
     },
     "execution_count": 9,
     "metadata": {},
     "output_type": "execute_result"
    }
   ],
   "source": [
    "#let's take a look at the Codeup database cohorts\n",
    "df.cohort_name.unique()"
   ]
  },
  {
   "cell_type": "code",
   "execution_count": 10,
   "id": "0baae70d",
   "metadata": {},
   "outputs": [],
   "source": [
    "#let us make data science program_id a dataframe\n",
    "ds_df= df[(df.program_id == 3) & (df.cohort_name != 'Staff') & (df.endpoint !='/')]"
   ]
  },
  {
   "cell_type": "code",
   "execution_count": 11,
   "id": "60ba421c",
   "metadata": {},
   "outputs": [],
   "source": [
    "#let us make web developers program_id a dataframe\n",
    "web_df = df[(df.program_id != 3) & (df.cohort_name != 'Staff') & (df.endpoint !='/')]"
   ]
  },
  {
   "cell_type": "code",
   "execution_count": 12,
   "id": "5fc1c8e8",
   "metadata": {},
   "outputs": [],
   "source": [
    "#and last we make staff a dataframe\n",
    "staff_df = df[df.cohort_name == 'Staff']"
   ]
  },
  {
   "cell_type": "markdown",
   "id": "3f4934b7",
   "metadata": {},
   "source": [
    "## Explore"
   ]
  },
  {
   "cell_type": "markdown",
   "id": "78725332",
   "metadata": {},
   "source": [
    "## 1. Which lesson appears to attract the most traffic consistently across cohorts (per program)?"
   ]
  },
  {
   "cell_type": "code",
   "execution_count": 13,
   "id": "e63af538",
   "metadata": {},
   "outputs": [
    {
     "data": {
      "image/png": "[encoded data removed]",
      "text/plain": [
       "<Figure size 144x360 with 1 Axes>"
      ]
     },
     "metadata": {
      "needs_background": "light"
     },
     "output_type": "display_data"
    }
   ],
   "source": [
    "#checking which lessons appears to attract the most traffic in Data Science across cohorts \n",
    "ds_df.endpoint.value_counts().head(5).plot.barh(figsize=(2, 5))\n",
    "plt.title(\"DS lessons that attract the most traffic\")\n",
    "plt.show()"
   ]
  },
  {
   "cell_type": "code",
   "execution_count": 14,
   "id": "382c0e39",
   "metadata": {},
   "outputs": [
    {
     "data": {
      "image/png": "[encoded data removed]",
      "text/plain": [
       "<Figure size 144x360 with 1 Axes>"
      ]
     },
     "metadata": {
      "needs_background": "light"
     },
     "output_type": "display_data"
    }
   ],
   "source": [
    "#checking which lessons appears to attract the most traffic in Web Developers across Cohorts \n",
    "web_df.endpoint.value_counts().head(5).plot.barh(figsize=(2, 5))\n",
    "plt.title(\"Web lessons that attract the most traffic\")\n",
    "plt.show()"
   ]
  },
  {
   "cell_type": "markdown",
   "id": "23ebae48",
   "metadata": {},
   "source": [
    "## 7. Which lessons are least accessed? "
   ]
  },
  {
   "cell_type": "code",
   "execution_count": 15,
   "id": "ae5d7dbf",
   "metadata": {},
   "outputs": [
    {
     "data": {
      "image/png": "[encoded data removed]",
      "text/plain": [
       "<Figure size 144x360 with 1 Axes>"
      ]
     },
     "metadata": {
      "needs_background": "light"
     },
     "output_type": "display_data"
    }
   ],
   "source": [
    "#checking which lessons appears to attract the least traffic in Data Science\n",
    "ds_df.endpoint.value_counts().tail(5).plot.barh(figsize=(2, 5))\n",
    "plt.title(\"DS lessons that attract the least traffic\")\n",
    "plt.show()"
   ]
  },
  {
   "cell_type": "code",
   "execution_count": 16,
   "id": "77963bc2",
   "metadata": {},
   "outputs": [
    {
     "data": {
      "image/png": "[encoded data removed]",
      "text/plain": [
       "<Figure size 144x360 with 1 Axes>"
      ]
     },
     "metadata": {
      "needs_background": "light"
     },
     "output_type": "display_data"
    }
   ],
   "source": [
    "#checking which lessons appears to attract the least traffic in Web Development \n",
    "web_df.endpoint.value_counts().tail(5).plot.barh(figsize=(2, 5))\n",
    "plt.title(\"Web lessons that attract the least traffic\")\n",
    "plt.show()"
   ]
  },
  {
   "cell_type": "markdown",
   "id": "96952919",
   "metadata": {},
   "source": [
    "## Takeaways:\n",
    "- Data Science: Lessons with MOST traffic are Classification overview & Fundamentals\n",
    "- Web Development: Lessons with MOST traffic are Javascript-i & TOC\n",
    "\n",
    "\n",
    "- Data Science: Lessons with LEAST traffic are python/custom-sorting-functions, imports, java-i/console-io  appendix/univariate_regression_in_excel\n",
    "- Web Development: Lessons with LEAST traffice are objects/math,12.3.6 Page Styling, Slides/threads"
   ]
  },
  {
   "cell_type": "markdown",
   "id": "e8eaa629",
   "metadata": {},
   "source": [
    "## 2. Is there a cohort that referred to a lesson significantly more than other cohorts seemed to gloss over?"
   ]
  },
  {
   "cell_type": "code",
   "execution_count": 17,
   "id": "bc4025ab",
   "metadata": {},
   "outputs": [
    {
     "data": {
      "image/png": "[encoded data removed]",
      "text/plain": [
       "<Figure size 144x360 with 1 Axes>"
      ]
     },
     "metadata": {
      "needs_background": "light"
     },
     "output_type": "display_data"
    },
    {
     "data": {
      "image/png": "[encoded data removed]",
      "text/plain": [
       "<Figure size 144x360 with 1 Axes>"
      ]
     },
     "metadata": {
      "needs_background": "light"
     },
     "output_type": "display_data"
    }
   ],
   "source": [
    "#checking which Cohort in Data Science referred to a lesson significantly more than others  \n",
    "ds_df.cohort_name.value_counts().head(5).plot.barh(figsize=(2, 5))\n",
    "plt.title(\"DS Cohort with lesson significantly referred to\")\n",
    "plt.show()\n",
    "#checking which Cohort in Web Development referred to a lesson significantly more than others \n",
    "web_df.cohort_name.value_counts().head(5).plot.barh(figsize=(2, 5))\n",
    "plt.title(\"Web Cohort with lesson significantly referred to\")\n",
    "plt.show()"
   ]
  },
  {
   "cell_type": "markdown",
   "id": "4d20e1a6",
   "metadata": {},
   "source": [
    "## Takeaways:\n",
    "- For Data Science, Darden Cohort has the most lessons that attract traffic \n",
    "- For Web Development, Ceres Cohort has the most lessons referred to significantly"
   ]
  },
  {
   "cell_type": "markdown",
   "id": "d92c3647",
   "metadata": {},
   "source": [
    "## 4. Is there any suspicious activity, such as users/machines/etc accessing the curriculum who shouldn’t be? Does it appear that any web-scraping is happening? Are there any suspicious IP addresses?"
   ]
  },
  {
   "cell_type": "code",
   "execution_count": 18,
   "id": "f0f25238",
   "metadata": {},
   "outputs": [],
   "source": [
    "#grub functions from wrangle.py to run anomalies functions"
   ]
  },
  {
   "cell_type": "code",
   "execution_count": 19,
   "id": "fd8bc183",
   "metadata": {},
   "outputs": [],
   "source": [
    "#let's test functions to find anomalies\n",
    "span = 30\n",
    "weight = 3.5\n",
    "\n",
    "anomalies = pd.DataFrame()\n",
    "\n",
    "for u in df.user_id.unique():\n",
    "\n",
    "    one_user = wrangle.find_anomalies(df, u, span, weight)\n",
    "    anomalies = pd.concat([anomalies, one_user])"
   ]
  },
  {
   "cell_type": "code",
   "execution_count": 20,
   "id": "8ddf74ae",
   "metadata": {},
   "outputs": [
    {
     "data": {
      "text/html": [
       "<div>\n",
       "<style scoped>\n",
       "    .dataframe tbody tr th:only-of-type {\n",
       "        vertical-align: middle;\n",
       "    }\n",
       "\n",
       "    .dataframe tbody tr th {\n",
       "        vertical-align: top;\n",
       "    }\n",
       "\n",
       "    .dataframe thead th {\n",
       "        text-align: right;\n",
       "    }\n",
       "</style>\n",
       "<table border=\"1\" class=\"dataframe\">\n",
       "  <thead>\n",
       "    <tr style=\"text-align: right;\">\n",
       "      <th></th>\n",
       "      <th>pages_one_user</th>\n",
       "      <th>midband</th>\n",
       "      <th>ub</th>\n",
       "      <th>lb</th>\n",
       "      <th>pct_b</th>\n",
       "      <th>user_id</th>\n",
       "    </tr>\n",
       "    <tr>\n",
       "      <th>date</th>\n",
       "      <th></th>\n",
       "      <th></th>\n",
       "      <th></th>\n",
       "      <th></th>\n",
       "      <th></th>\n",
       "      <th></th>\n",
       "    </tr>\n",
       "  </thead>\n",
       "  <tbody>\n",
       "    <tr>\n",
       "      <th>2019-01-29</th>\n",
       "      <td>44</td>\n",
       "      <td>3.623334</td>\n",
       "      <td>42.081344</td>\n",
       "      <td>-34.834677</td>\n",
       "      <td>1.024945</td>\n",
       "      <td>1</td>\n",
       "    </tr>\n",
       "    <tr>\n",
       "      <th>2019-07-08</th>\n",
       "      <td>101</td>\n",
       "      <td>8.248768</td>\n",
       "      <td>96.507472</td>\n",
       "      <td>-80.009936</td>\n",
       "      <td>1.025451</td>\n",
       "      <td>1</td>\n",
       "    </tr>\n",
       "    <tr>\n",
       "      <th>2018-10-15</th>\n",
       "      <td>9</td>\n",
       "      <td>0.581421</td>\n",
       "      <td>8.457414</td>\n",
       "      <td>-7.294571</td>\n",
       "      <td>1.034446</td>\n",
       "      <td>3</td>\n",
       "    </tr>\n",
       "    <tr>\n",
       "      <th>2019-01-09</th>\n",
       "      <td>4</td>\n",
       "      <td>0.262470</td>\n",
       "      <td>3.802115</td>\n",
       "      <td>-3.277175</td>\n",
       "      <td>1.027953</td>\n",
       "      <td>3</td>\n",
       "    </tr>\n",
       "    <tr>\n",
       "      <th>2019-04-06</th>\n",
       "      <td>2</td>\n",
       "      <td>0.129825</td>\n",
       "      <td>1.889712</td>\n",
       "      <td>-1.630061</td>\n",
       "      <td>1.031334</td>\n",
       "      <td>3</td>\n",
       "    </tr>\n",
       "    <tr>\n",
       "      <th>...</th>\n",
       "      <td>...</td>\n",
       "      <td>...</td>\n",
       "      <td>...</td>\n",
       "      <td>...</td>\n",
       "      <td>...</td>\n",
       "      <td>...</td>\n",
       "    </tr>\n",
       "    <tr>\n",
       "      <th>2021-01-24</th>\n",
       "      <td>7</td>\n",
       "      <td>0.574393</td>\n",
       "      <td>6.857226</td>\n",
       "      <td>-5.708440</td>\n",
       "      <td>1.011362</td>\n",
       "      <td>817</td>\n",
       "    </tr>\n",
       "    <tr>\n",
       "      <th>2021-03-25</th>\n",
       "      <td>59</td>\n",
       "      <td>6.824556</td>\n",
       "      <td>58.415342</td>\n",
       "      <td>-44.766230</td>\n",
       "      <td>1.005666</td>\n",
       "      <td>843</td>\n",
       "    </tr>\n",
       "    <tr>\n",
       "      <th>2021-02-23</th>\n",
       "      <td>67</td>\n",
       "      <td>8.229409</td>\n",
       "      <td>66.322904</td>\n",
       "      <td>-49.864086</td>\n",
       "      <td>1.005828</td>\n",
       "      <td>851</td>\n",
       "    </tr>\n",
       "    <tr>\n",
       "      <th>2021-04-06</th>\n",
       "      <td>19</td>\n",
       "      <td>1.348943</td>\n",
       "      <td>18.056879</td>\n",
       "      <td>-15.358994</td>\n",
       "      <td>1.028224</td>\n",
       "      <td>854</td>\n",
       "    </tr>\n",
       "    <tr>\n",
       "      <th>2021-03-25</th>\n",
       "      <td>15</td>\n",
       "      <td>1.021925</td>\n",
       "      <td>14.239722</td>\n",
       "      <td>-12.195871</td>\n",
       "      <td>1.028760</td>\n",
       "      <td>859</td>\n",
       "    </tr>\n",
       "  </tbody>\n",
       "</table>\n",
       "<p>967 rows × 6 columns</p>\n",
       "</div>"
      ],
      "text/plain": [
       "            pages_one_user   midband         ub         lb     pct_b  user_id\n",
       "date                                                                         \n",
       "2019-01-29              44  3.623334  42.081344 -34.834677  1.024945        1\n",
       "2019-07-08             101  8.248768  96.507472 -80.009936  1.025451        1\n",
       "2018-10-15               9  0.581421   8.457414  -7.294571  1.034446        3\n",
       "2019-01-09               4  0.262470   3.802115  -3.277175  1.027953        3\n",
       "2019-04-06               2  0.129825   1.889712  -1.630061  1.031334        3\n",
       "...                    ...       ...        ...        ...       ...      ...\n",
       "2021-01-24               7  0.574393   6.857226  -5.708440  1.011362      817\n",
       "2021-03-25              59  6.824556  58.415342 -44.766230  1.005666      843\n",
       "2021-02-23              67  8.229409  66.322904 -49.864086  1.005828      851\n",
       "2021-04-06              19  1.348943  18.056879 -15.358994  1.028224      854\n",
       "2021-03-25              15  1.021925  14.239722 -12.195871  1.028760      859\n",
       "\n",
       "[967 rows x 6 columns]"
      ]
     },
     "execution_count": 20,
     "metadata": {},
     "output_type": "execute_result"
    }
   ],
   "source": [
    "#look for anomalies\n",
    "anomalies "
   ]
  },
  {
   "cell_type": "code",
   "execution_count": 21,
   "id": "17a4e925",
   "metadata": {},
   "outputs": [
    {
     "data": {
      "text/html": [
       "<div>\n",
       "<style scoped>\n",
       "    .dataframe tbody tr th:only-of-type {\n",
       "        vertical-align: middle;\n",
       "    }\n",
       "\n",
       "    .dataframe tbody tr th {\n",
       "        vertical-align: top;\n",
       "    }\n",
       "\n",
       "    .dataframe thead th {\n",
       "        text-align: right;\n",
       "    }\n",
       "</style>\n",
       "<table border=\"1\" class=\"dataframe\">\n",
       "  <thead>\n",
       "    <tr style=\"text-align: right;\">\n",
       "      <th></th>\n",
       "      <th>pages_one_user</th>\n",
       "      <th>midband</th>\n",
       "      <th>ub</th>\n",
       "      <th>lb</th>\n",
       "      <th>pct_b</th>\n",
       "      <th>user_id</th>\n",
       "    </tr>\n",
       "    <tr>\n",
       "      <th>date</th>\n",
       "      <th></th>\n",
       "      <th></th>\n",
       "      <th></th>\n",
       "      <th></th>\n",
       "      <th></th>\n",
       "      <th></th>\n",
       "    </tr>\n",
       "  </thead>\n",
       "  <tbody>\n",
       "    <tr>\n",
       "      <th>2019-03-03</th>\n",
       "      <td>272</td>\n",
       "      <td>24.721632</td>\n",
       "      <td>266.780128</td>\n",
       "      <td>-217.336864</td>\n",
       "      <td>1.010782</td>\n",
       "      <td>341</td>\n",
       "    </tr>\n",
       "    <tr>\n",
       "      <th>2018-06-02</th>\n",
       "      <td>198</td>\n",
       "      <td>16.484863</td>\n",
       "      <td>188.766965</td>\n",
       "      <td>-155.797239</td>\n",
       "      <td>1.026796</td>\n",
       "      <td>138</td>\n",
       "    </tr>\n",
       "    <tr>\n",
       "      <th>2019-12-19</th>\n",
       "      <td>192</td>\n",
       "      <td>19.601776</td>\n",
       "      <td>187.231096</td>\n",
       "      <td>-148.027544</td>\n",
       "      <td>1.014225</td>\n",
       "      <td>526</td>\n",
       "    </tr>\n",
       "    <tr>\n",
       "      <th>2020-10-16</th>\n",
       "      <td>179</td>\n",
       "      <td>20.158062</td>\n",
       "      <td>173.720239</td>\n",
       "      <td>-133.404115</td>\n",
       "      <td>1.017191</td>\n",
       "      <td>658</td>\n",
       "    </tr>\n",
       "    <tr>\n",
       "      <th>2020-06-05</th>\n",
       "      <td>165</td>\n",
       "      <td>20.035882</td>\n",
       "      <td>163.037501</td>\n",
       "      <td>-122.965736</td>\n",
       "      <td>1.006862</td>\n",
       "      <td>521</td>\n",
       "    </tr>\n",
       "    <tr>\n",
       "      <th>...</th>\n",
       "      <td>...</td>\n",
       "      <td>...</td>\n",
       "      <td>...</td>\n",
       "      <td>...</td>\n",
       "      <td>...</td>\n",
       "      <td>...</td>\n",
       "    </tr>\n",
       "    <tr>\n",
       "      <th>2019-03-11</th>\n",
       "      <td>1</td>\n",
       "      <td>0.064517</td>\n",
       "      <td>0.939111</td>\n",
       "      <td>-0.810077</td>\n",
       "      <td>1.034810</td>\n",
       "      <td>124</td>\n",
       "    </tr>\n",
       "    <tr>\n",
       "      <th>2019-03-20</th>\n",
       "      <td>1</td>\n",
       "      <td>0.064516</td>\n",
       "      <td>0.939061</td>\n",
       "      <td>-0.810029</td>\n",
       "      <td>1.034841</td>\n",
       "      <td>126</td>\n",
       "    </tr>\n",
       "    <tr>\n",
       "      <th>2020-11-21</th>\n",
       "      <td>1</td>\n",
       "      <td>0.065202</td>\n",
       "      <td>0.959398</td>\n",
       "      <td>-0.828994</td>\n",
       "      <td>1.022703</td>\n",
       "      <td>410</td>\n",
       "    </tr>\n",
       "    <tr>\n",
       "      <th>2020-12-07</th>\n",
       "      <td>1</td>\n",
       "      <td>0.064516</td>\n",
       "      <td>0.939061</td>\n",
       "      <td>-0.810028</td>\n",
       "      <td>1.034841</td>\n",
       "      <td>143</td>\n",
       "    </tr>\n",
       "    <tr>\n",
       "      <th>2020-07-13</th>\n",
       "      <td>1</td>\n",
       "      <td>0.064516</td>\n",
       "      <td>0.939061</td>\n",
       "      <td>-0.810028</td>\n",
       "      <td>1.034841</td>\n",
       "      <td>268</td>\n",
       "    </tr>\n",
       "  </tbody>\n",
       "</table>\n",
       "<p>967 rows × 6 columns</p>\n",
       "</div>"
      ],
      "text/plain": [
       "            pages_one_user    midband          ub          lb     pct_b  \\\n",
       "date                                                                      \n",
       "2019-03-03             272  24.721632  266.780128 -217.336864  1.010782   \n",
       "2018-06-02             198  16.484863  188.766965 -155.797239  1.026796   \n",
       "2019-12-19             192  19.601776  187.231096 -148.027544  1.014225   \n",
       "2020-10-16             179  20.158062  173.720239 -133.404115  1.017191   \n",
       "2020-06-05             165  20.035882  163.037501 -122.965736  1.006862   \n",
       "...                    ...        ...         ...         ...       ...   \n",
       "2019-03-11               1   0.064517    0.939111   -0.810077  1.034810   \n",
       "2019-03-20               1   0.064516    0.939061   -0.810029  1.034841   \n",
       "2020-11-21               1   0.065202    0.959398   -0.828994  1.022703   \n",
       "2020-12-07               1   0.064516    0.939061   -0.810028  1.034841   \n",
       "2020-07-13               1   0.064516    0.939061   -0.810028  1.034841   \n",
       "\n",
       "            user_id  \n",
       "date                 \n",
       "2019-03-03      341  \n",
       "2018-06-02      138  \n",
       "2019-12-19      526  \n",
       "2020-10-16      658  \n",
       "2020-06-05      521  \n",
       "...             ...  \n",
       "2019-03-11      124  \n",
       "2019-03-20      126  \n",
       "2020-11-21      410  \n",
       "2020-12-07      143  \n",
       "2020-07-13      268  \n",
       "\n",
       "[967 rows x 6 columns]"
      ]
     },
     "execution_count": 21,
     "metadata": {},
     "output_type": "execute_result"
    }
   ],
   "source": [
    "#get summarized anomalies in asending order\n",
    "anomalies.sort_values('pages_one_user', ascending=False)"
   ]
  },
  {
   "cell_type": "code",
   "execution_count": 24,
   "id": "c78f392a",
   "metadata": {},
   "outputs": [
    {
     "data": {
      "image/png": "[encoded data removed]",
      "text/plain": [
       "<Figure size 576x432 with 1 Axes>"
      ]
     },
     "metadata": {
      "needs_background": "light"
     },
     "output_type": "display_data"
    }
   ],
   "source": [
    "#let's plot to see the activities with most views at pages 272\n",
    "df[df.user_id==341].index.value_counts().plot(figsize=(8,6))\n",
    "plt.show()"
   ]
  },
  {
   "cell_type": "markdown",
   "id": "d98f7b3c",
   "metadata": {},
   "source": [
    "## Takeaway:\n",
    "### Looks like user_id  number 341 has the most views at 272 pages in a single day but nothing suspicious. "
   ]
  },
  {
   "cell_type": "markdown",
   "id": "7b335fa4",
   "metadata": {},
   "source": [
    "## 6. What topics are grads continuing to reference after graduation and into their jobs (for each program)?"
   ]
  },
  {
   "cell_type": "code",
   "execution_count": null,
   "id": "01dd8693",
   "metadata": {},
   "outputs": [],
   "source": [
    "#let's make a new dataframe for DS grads\n",
    "grad_ds_df = ds_df[ds_df.index>ds_df.end_date]"
   ]
  },
  {
   "cell_type": "code",
   "execution_count": null,
   "id": "2eaf58b7",
   "metadata": {},
   "outputs": [],
   "source": [
    "#check the head\n",
    "grad_ds_df.head()"
   ]
  },
  {
   "cell_type": "code",
   "execution_count": null,
   "id": "da231102",
   "metadata": {},
   "outputs": [],
   "source": [
    "#let's check the endpoint counts\n",
    "grad_ds_df.endpoint.value_counts()"
   ]
  },
  {
   "cell_type": "markdown",
   "id": "14ff2d76",
   "metadata": {},
   "source": [
    "## Takeaway:\n",
    "### For Data Science the most common topics for graduates to reference are sql/mysql-overview and classification/overview"
   ]
  },
  {
   "cell_type": "code",
   "execution_count": null,
   "id": "b9522f68",
   "metadata": {},
   "outputs": [],
   "source": [
    "#let's make a new dataframe for Web Dev grads\n",
    "grad_web_df = web_df[web_df.index>web_df.end_date]"
   ]
  },
  {
   "cell_type": "code",
   "execution_count": null,
   "id": "c5263fac",
   "metadata": {},
   "outputs": [],
   "source": [
    "#check the head\n",
    "grad_web_df.head()"
   ]
  },
  {
   "cell_type": "code",
   "execution_count": null,
   "id": "e89c9f72",
   "metadata": {},
   "outputs": [],
   "source": [
    "#let's check the endpoint counts\n",
    "grad_web_df.endpoint.value_counts()"
   ]
  },
  {
   "cell_type": "markdown",
   "id": "ff63ba24",
   "metadata": {},
   "source": [
    "## Takeaway:\n",
    "### For Web Development the most common topics for graduates to reference are Javascript-i and Spring"
   ]
  }
 ],
 "metadata": {
  "kernelspec": {
   "display_name": "Python 3 (ipykernel)",
   "language": "python",
   "name": "python3"
  },
  "language_info": {
   "codemirror_mode": {
    "name": "ipython",
    "version": 3
   },
   "file_extension": ".py",
   "mimetype": "text/x-python",
   "name": "python",
   "nbconvert_exporter": "python",
   "pygments_lexer": "ipython3",
   "version": "3.9.12"
  }
 },
 "nbformat": 4,
 "nbformat_minor": 5
}
